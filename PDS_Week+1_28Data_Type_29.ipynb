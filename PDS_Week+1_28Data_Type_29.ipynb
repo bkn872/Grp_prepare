{
  "cells": [
    {
      "cell_type": "markdown",
      "metadata": {
        "id": "view-in-github",
        "colab_type": "text"
      },
      "source": [
        "<a href=\"https://colab.research.google.com/github/bkn872/Grp_prepare/blob/main/PDS_Week%2B1_28Data_Type_29.ipynb\" target=\"_parent\"><img src=\"https://colab.research.google.com/assets/colab-badge.svg\" alt=\"Open In Colab\"/></a>"
      ]
    },
    {
      "cell_type": "markdown",
      "metadata": {
        "id": "gKlINp9sz2U6"
      },
      "source": [
        "# Data Types in Python\n",
        "\n",
        "This notebook is aimed at shedding some light on the different data types in Python. This shall form a strong foundation for your programming and Data Science journey."
      ]
    },
    {
      "cell_type": "markdown",
      "metadata": {
        "id": "1xcl_L2mz2U-"
      },
      "source": [
        "Data belongs to different categories. It can be numeric, text, true/false, complex numbers, date, time etc. Data should be stored correctly for us to be able to do the desired operations on the data. If the data is stored incorrectly, for example numerical data is stored as text data, we can not do numerical or arithmetic operations on the data because the methods and the operations for a data depend largely on the type of data (object) being referred to."
      ]
    },
    {
      "cell_type": "markdown",
      "metadata": {
        "id": "NVDmfo-Mz2U-"
      },
      "source": [
        "There are various data types in Python. Listed below are the most prominently used ones:\n",
        "1. Numeric - This is further divided into \n",
        "    (a.) Integer\n",
        "    (b.) Float\n",
        "    (c.) Complex\n",
        "    \n",
        "2. String\n",
        "\n",
        "3. Boolean "
      ]
    },
    {
      "cell_type": "markdown",
      "metadata": {
        "id": "Ms3c7i1ez2U_"
      },
      "source": [
        "## Numeric Data Type"
      ]
    },
    {
      "cell_type": "markdown",
      "metadata": {
        "id": "FPEH2tWWz2VA"
      },
      "source": [
        "As the name suggests, Numeric data type consists of numbers. These numbers can be whole numbers, decimal numbers or complex numbers.\n",
        "\n",
        "Whole numbers are stored in Integer (Int) type.\n",
        "\n",
        "Decimal numbers are stored in Float (Float64) type.\n",
        "\n",
        "Complex numbers are stored in Complex type.\n",
        "\n",
        "You will find Integer and Float type being used most of the times."
      ]
    },
    {
      "cell_type": "markdown",
      "metadata": {
        "id": "1ixYgj7Dz2VA"
      },
      "source": [
        "You can check the data type of an object using the type() command."
      ]
    },
    {
      "cell_type": "code",
      "execution_count": 1,
      "metadata": {
        "colab": {
          "base_uri": "https://localhost:8080/"
        },
        "id": "9Oc79b1nz2VB",
        "outputId": "43920fe1-7f7a-44c4-9c84-a22f0f77ef46"
      },
      "outputs": [
        {
          "output_type": "execute_result",
          "data": {
            "text/plain": [
              "int"
            ]
          },
          "metadata": {},
          "execution_count": 1
        }
      ],
      "source": [
        "#Let's look at some examples.\n",
        "\n",
        "Integer = 7\n",
        "type(Integer)"
      ]
    },
    {
      "cell_type": "code",
      "execution_count": 2,
      "metadata": {
        "colab": {
          "base_uri": "https://localhost:8080/"
        },
        "id": "cwJSId6Vz2VD",
        "outputId": "90151b13-b4b3-4c3a-e139-f7aff3e2d829"
      },
      "outputs": [
        {
          "output_type": "execute_result",
          "data": {
            "text/plain": [
              "float"
            ]
          },
          "metadata": {},
          "execution_count": 2
        }
      ],
      "source": [
        "Float = 2.356\n",
        "type(Float)"
      ]
    },
    {
      "cell_type": "code",
      "execution_count": 3,
      "metadata": {
        "colab": {
          "base_uri": "https://localhost:8080/"
        },
        "id": "UPOXoGCqz2VE",
        "outputId": "310cc739-0977-459c-f850-07a02cdd702d"
      },
      "outputs": [
        {
          "output_type": "execute_result",
          "data": {
            "text/plain": [
              "complex"
            ]
          },
          "metadata": {},
          "execution_count": 3
        }
      ],
      "source": [
        "Complex = 3.908J\n",
        "type(Complex)"
      ]
    },
    {
      "cell_type": "code",
      "execution_count": null,
      "metadata": {
        "id": "TXD7Bjywz2VE"
      },
      "outputs": [],
      "source": [
        "# Your turn now. \n",
        "# Store 2, 1086M, 3.14567 into three different objects and check their data types.\n",
        "\n"
      ]
    },
    {
      "cell_type": "markdown",
      "metadata": {
        "id": "z94tbY2iz2VF"
      },
      "source": [
        "## String Data Type"
      ]
    },
    {
      "cell_type": "markdown",
      "metadata": {
        "id": "Fwp5_Rsvz2VF"
      },
      "source": [
        "String Data type usually is used to store text. The data to be stored in this data type is enclosed between single ('') or double (\"\") quotes.\n",
        "Recall that you printed your name in the previous Notebook. That was string data type.\n",
        "Let's look at an example."
      ]
    },
    {
      "cell_type": "code",
      "execution_count": 4,
      "metadata": {
        "colab": {
          "base_uri": "https://localhost:8080/",
          "height": 35
        },
        "id": "3D_QV2gnz2VG",
        "outputId": "b00fba64-7642-44a4-ffbf-1f6a4b10c625"
      },
      "outputs": [
        {
          "output_type": "execute_result",
          "data": {
            "text/plain": [
              "'My name is Jupyter!'"
            ],
            "application/vnd.google.colaboratory.intrinsic+json": {
              "type": "string"
            }
          },
          "metadata": {},
          "execution_count": 4
        }
      ],
      "source": [
        "# Printing your name\n",
        "\n",
        "My_Name = \"My name is Jupyter!\"\n",
        "My_Name"
      ]
    },
    {
      "cell_type": "code",
      "execution_count": 5,
      "metadata": {
        "colab": {
          "base_uri": "https://localhost:8080/"
        },
        "id": "Ppv6QKBrz2VG",
        "outputId": "68f214ad-b1f4-4503-fc1b-584171f7824d"
      },
      "outputs": [
        {
          "output_type": "execute_result",
          "data": {
            "text/plain": [
              "str"
            ]
          },
          "metadata": {},
          "execution_count": 5
        }
      ],
      "source": [
        "type(My_Name)"
      ]
    },
    {
      "cell_type": "code",
      "execution_count": 7,
      "metadata": {
        "colab": {
          "base_uri": "https://localhost:8080/",
          "height": 35
        },
        "id": "pUxTApCHz2VG",
        "outputId": "b26b6a11-5b6c-4bb4-8a57-8ce200801508"
      },
      "outputs": [
        {
          "output_type": "execute_result",
          "data": {
            "text/plain": [
              "'Bharath Kumar'"
            ],
            "application/vnd.google.colaboratory.intrinsic+json": {
              "type": "string"
            }
          },
          "metadata": {},
          "execution_count": 7
        }
      ],
      "source": [
        "# Your turn to play around now.\n",
        "#Save your name to an object and check its data type.\n",
        "name='Bharath Kumar'\n",
        "name\n"
      ]
    },
    {
      "cell_type": "code",
      "source": [
        "type(name)"
      ],
      "metadata": {
        "colab": {
          "base_uri": "https://localhost:8080/"
        },
        "id": "4mUyuae50dJc",
        "outputId": "fe0da085-afa7-465b-a2fe-13df5624ed30"
      },
      "execution_count": 8,
      "outputs": [
        {
          "output_type": "execute_result",
          "data": {
            "text/plain": [
              "str"
            ]
          },
          "metadata": {},
          "execution_count": 8
        }
      ]
    },
    {
      "cell_type": "markdown",
      "metadata": {
        "id": "S3jiBi3tz2VH"
      },
      "source": [
        "Various functions can be performed using strings like searching within a string, conversion to lowercase/uppercase, count, length, splitting, replacing, trimming, partitioning etc."
      ]
    },
    {
      "cell_type": "code",
      "execution_count": 9,
      "metadata": {
        "colab": {
          "base_uri": "https://localhost:8080/"
        },
        "id": "jAnNl4f0z2VH",
        "outputId": "8f009aa6-9105-4337-d229-71dfe4de97e6"
      },
      "outputs": [
        {
          "output_type": "execute_result",
          "data": {
            "text/plain": [
              "19"
            ]
          },
          "metadata": {},
          "execution_count": 9
        }
      ],
      "source": [
        "# Let's check how many characters does your name contain.\n",
        "len(My_Name)"
      ]
    },
    {
      "cell_type": "code",
      "source": [
        "len(name)"
      ],
      "metadata": {
        "colab": {
          "base_uri": "https://localhost:8080/"
        },
        "id": "soNLryhq0k8g",
        "outputId": "9dd1a8eb-2801-4356-9ffc-ccd652505ecd"
      },
      "execution_count": 10,
      "outputs": [
        {
          "output_type": "execute_result",
          "data": {
            "text/plain": [
              "13"
            ]
          },
          "metadata": {},
          "execution_count": 10
        }
      ]
    },
    {
      "cell_type": "code",
      "execution_count": 11,
      "metadata": {
        "colab": {
          "base_uri": "https://localhost:8080/"
        },
        "id": "7Y0_ypIbz2VI",
        "outputId": "f4a57d75-cdba-4b43-a990-3c134d107aa1"
      },
      "outputs": [
        {
          "output_type": "execute_result",
          "data": {
            "text/plain": [
              "False"
            ]
          },
          "metadata": {},
          "execution_count": 11
        }
      ],
      "source": [
        "# Let's see if My_Name is all Caps or not. \n",
        "# isupper() returns True if all the letters are Capitals, False if atleast one letter in in lower case.\n",
        "\n",
        "My_Name.isupper()"
      ]
    },
    {
      "cell_type": "code",
      "source": [
        "name.isupper()"
      ],
      "metadata": {
        "colab": {
          "base_uri": "https://localhost:8080/"
        },
        "id": "8k5x0BHo0wvX",
        "outputId": "a2e5e591-db34-4da7-f930-09ebd5f7962d"
      },
      "execution_count": 12,
      "outputs": [
        {
          "output_type": "execute_result",
          "data": {
            "text/plain": [
              "False"
            ]
          },
          "metadata": {},
          "execution_count": 12
        }
      ]
    },
    {
      "cell_type": "code",
      "execution_count": 16,
      "metadata": {
        "colab": {
          "base_uri": "https://localhost:8080/",
          "height": 35
        },
        "id": "fIsFaCFez2VI",
        "outputId": "aba7ad68-1eea-4ec7-a7c9-9040b91cf663"
      },
      "outputs": [
        {
          "output_type": "execute_result",
          "data": {
            "text/plain": [
              "'MY NAME IS JUPYTER!'"
            ],
            "application/vnd.google.colaboratory.intrinsic+json": {
              "type": "string"
            }
          },
          "metadata": {},
          "execution_count": 16
        }
      ],
      "source": [
        "# Let's convert My_Name to all caps.\n",
        "\n",
        "My_Name = My_Name.upper()\n",
        "My_Name"
      ]
    },
    {
      "cell_type": "code",
      "source": [
        "name_new=name.upper()\n",
        "name_new"
      ],
      "metadata": {
        "colab": {
          "base_uri": "https://localhost:8080/",
          "height": 35
        },
        "id": "1VPouQPn02td",
        "outputId": "8b34d73b-7270-453d-ecb5-4638a51c2f19"
      },
      "execution_count": 17,
      "outputs": [
        {
          "output_type": "execute_result",
          "data": {
            "text/plain": [
              "'BHARATH KUMAR'"
            ],
            "application/vnd.google.colaboratory.intrinsic+json": {
              "type": "string"
            }
          },
          "metadata": {},
          "execution_count": 17
        }
      ]
    },
    {
      "cell_type": "code",
      "execution_count": 18,
      "metadata": {
        "colab": {
          "base_uri": "https://localhost:8080/"
        },
        "id": "OWGwumQ2z2VJ",
        "outputId": "16476d40-ddce-4e90-d925-7cf6a5f8ca36"
      },
      "outputs": [
        {
          "output_type": "execute_result",
          "data": {
            "text/plain": [
              "True"
            ]
          },
          "metadata": {},
          "execution_count": 18
        }
      ],
      "source": [
        "# Now the output of isupper() changes to True.\n",
        "My_Name.isupper()"
      ]
    },
    {
      "cell_type": "code",
      "source": [
        "name_new.isupper()"
      ],
      "metadata": {
        "colab": {
          "base_uri": "https://localhost:8080/"
        },
        "id": "yeaZkYhd1U5x",
        "outputId": "838afc67-e17a-4d7c-cc16-ed9430e2ba57"
      },
      "execution_count": 19,
      "outputs": [
        {
          "output_type": "execute_result",
          "data": {
            "text/plain": [
              "True"
            ]
          },
          "metadata": {},
          "execution_count": 19
        }
      ]
    },
    {
      "cell_type": "code",
      "execution_count": 22,
      "metadata": {
        "colab": {
          "base_uri": "https://localhost:8080/",
          "height": 35
        },
        "id": "CfzpfGjbz2VJ",
        "outputId": "d17deb79-4c3e-4f9e-c4eb-bbb8378ca548"
      },
      "outputs": [
        {
          "output_type": "execute_result",
          "data": {
            "text/plain": [
              "'I am happy to know that its very understandable'"
            ],
            "application/vnd.google.colaboratory.intrinsic+json": {
              "type": "string"
            }
          },
          "metadata": {},
          "execution_count": 22
        }
      ],
      "source": [
        "# Your turn to try it now. \n",
        "# Write a sentence and store it into an object.\n",
        "bujji='I am happy to know that its very understandable'\n",
        "bujji"
      ]
    },
    {
      "cell_type": "code",
      "execution_count": 23,
      "metadata": {
        "colab": {
          "base_uri": "https://localhost:8080/"
        },
        "id": "LbHLBdm9z2VK",
        "outputId": "1c546144-aa8a-423d-adbb-8d6d28e12b0a"
      },
      "outputs": [
        {
          "output_type": "execute_result",
          "data": {
            "text/plain": [
              "str"
            ]
          },
          "metadata": {},
          "execution_count": 23
        }
      ],
      "source": [
        "# Check the data type of the object you just created.\n",
        "\n",
        "type(bujji)"
      ]
    },
    {
      "cell_type": "code",
      "execution_count": 24,
      "metadata": {
        "colab": {
          "base_uri": "https://localhost:8080/"
        },
        "id": "Zp878RNpz2VK",
        "outputId": "2b4b2ab0-bd67-4dd2-97c3-61b3192346c0"
      },
      "outputs": [
        {
          "output_type": "execute_result",
          "data": {
            "text/plain": [
              "False"
            ]
          },
          "metadata": {},
          "execution_count": 24
        }
      ],
      "source": [
        "# Check if it is all caps or not.\n",
        "bujji.isupper()\n"
      ]
    },
    {
      "cell_type": "code",
      "execution_count": 27,
      "metadata": {
        "colab": {
          "base_uri": "https://localhost:8080/"
        },
        "id": "1S4_yX7Kz2VK",
        "outputId": "4c059316-79ee-42aa-af85-950d99a35324"
      },
      "outputs": [
        {
          "output_type": "execute_result",
          "data": {
            "text/plain": [
              "False"
            ]
          },
          "metadata": {},
          "execution_count": 27
        }
      ],
      "source": [
        "# Challenge - Check if it is all lower case or not.\n",
        "\n",
        "bujji.islower()"
      ]
    },
    {
      "cell_type": "code",
      "execution_count": 28,
      "metadata": {
        "colab": {
          "base_uri": "https://localhost:8080/",
          "height": 35
        },
        "id": "BXb_TcDXz2VK",
        "outputId": "15483818-4b3e-47c2-bf70-d2e0ca7320f2"
      },
      "outputs": [
        {
          "output_type": "execute_result",
          "data": {
            "text/plain": [
              "'I AM HAPPY TO KNOW THAT ITS VERY UNDERSTANDABLE'"
            ],
            "application/vnd.google.colaboratory.intrinsic+json": {
              "type": "string"
            }
          },
          "metadata": {},
          "execution_count": 28
        }
      ],
      "source": [
        "# Convert your object into all caps.\n",
        "bujji_new=bujji.upper()\n",
        "bujji_new"
      ]
    },
    {
      "cell_type": "code",
      "execution_count": 30,
      "metadata": {
        "colab": {
          "base_uri": "https://localhost:8080/",
          "height": 35
        },
        "id": "9xz5Wpevz2VK",
        "outputId": "2c33a154-8835-42f7-a344-007a68e914e1"
      },
      "outputs": [
        {
          "output_type": "execute_result",
          "data": {
            "text/plain": [
              "'i am happy to know that its very understandable'"
            ],
            "application/vnd.google.colaboratory.intrinsic+json": {
              "type": "string"
            }
          },
          "metadata": {},
          "execution_count": 30
        }
      ],
      "source": [
        "# Challenge - Convert your object into all lower case.\n",
        "bujji_lower=bujji.lower()\n",
        "bujji_lower"
      ]
    },
    {
      "cell_type": "markdown",
      "metadata": {
        "id": "wdjPRuc_z2VL"
      },
      "source": [
        "## Boolean Data Type"
      ]
    },
    {
      "cell_type": "markdown",
      "metadata": {
        "id": "k20XR0sqz2VL"
      },
      "source": [
        "The boolean data type has just two values, i.e., True or False."
      ]
    },
    {
      "cell_type": "code",
      "execution_count": null,
      "metadata": {
        "id": "QRBZ2bnTz2VL"
      },
      "outputs": [],
      "source": [
        "# Let's look at examples.\n",
        "\n",
        "x = True\n",
        "y = False"
      ]
    },
    {
      "cell_type": "code",
      "execution_count": null,
      "metadata": {
        "id": "xuwPDpwsz2VL",
        "outputId": "eb0b1601-39bd-40d2-8134-3ee1e4ab9d15"
      },
      "outputs": [
        {
          "data": {
            "text/plain": [
              "bool"
            ]
          },
          "execution_count": 32,
          "metadata": {},
          "output_type": "execute_result"
        }
      ],
      "source": [
        "type(x)"
      ]
    },
    {
      "cell_type": "code",
      "execution_count": null,
      "metadata": {
        "id": "Ha3OIJcMz2VL",
        "outputId": "33cfbffc-64e0-43a1-86f0-f51e62331512"
      },
      "outputs": [
        {
          "data": {
            "text/plain": [
              "bool"
            ]
          },
          "execution_count": 33,
          "metadata": {},
          "output_type": "execute_result"
        }
      ],
      "source": [
        "type(y)"
      ]
    },
    {
      "cell_type": "code",
      "execution_count": null,
      "metadata": {
        "id": "D357YFdYz2VM"
      },
      "outputs": [],
      "source": [
        "# Your turn!\n",
        "\n"
      ]
    },
    {
      "cell_type": "markdown",
      "metadata": {
        "id": "rM2A0HiCz2VM"
      },
      "source": [
        "## Data Type Conversions"
      ]
    },
    {
      "cell_type": "markdown",
      "metadata": {
        "id": "F6aVxp1Qz2VM"
      },
      "source": [
        "As explained earlier, data should be stored in correct form so that it can be manipulated efficiently later.\n",
        "Quite a lot of times, data is not stored correctly or it gets imported incorrectly.\n",
        "In such cases, data needs to be converted to its correct type so that it can be optimally used in our analysis.\n",
        "Thus, let's look at data type conversion exercises to get you comfortable with the process."
      ]
    },
    {
      "cell_type": "code",
      "execution_count": null,
      "metadata": {
        "id": "OfRVhFuiz2VM"
      },
      "outputs": [],
      "source": [
        "# Consider an object containing an integer.\n",
        "string1 = 1"
      ]
    },
    {
      "cell_type": "code",
      "execution_count": null,
      "metadata": {
        "id": "OXxwbW31z2VN",
        "outputId": "ff429d4e-430b-40f5-cfc5-73175b780775"
      },
      "outputs": [
        {
          "data": {
            "text/plain": [
              "int"
            ]
          },
          "execution_count": 38,
          "metadata": {},
          "output_type": "execute_result"
        }
      ],
      "source": [
        "type(string1)"
      ]
    },
    {
      "cell_type": "code",
      "execution_count": null,
      "metadata": {
        "id": "Uy39LpQ0z2VN"
      },
      "outputs": [],
      "source": [
        "# I want to use the value 1 as a text value. So let's convert it.\n",
        "string1 = str(string1)"
      ]
    },
    {
      "cell_type": "code",
      "execution_count": null,
      "metadata": {
        "id": "qfT5QVlAz2VN",
        "outputId": "6706df03-88e8-4e8d-cd6d-f4a66ccab43d"
      },
      "outputs": [
        {
          "data": {
            "text/plain": [
              "str"
            ]
          },
          "execution_count": 45,
          "metadata": {},
          "output_type": "execute_result"
        }
      ],
      "source": [
        "type(string1)"
      ]
    },
    {
      "cell_type": "code",
      "execution_count": null,
      "metadata": {
        "id": "F92mzVLnz2VN"
      },
      "outputs": [],
      "source": [
        "# Exercise for you. Store the number 123456 as string.\n",
        "\n"
      ]
    },
    {
      "cell_type": "code",
      "execution_count": null,
      "metadata": {
        "id": "6s-xVmAqz2VO"
      },
      "outputs": [],
      "source": [
        "# Let's do the opposite now. Let's learn to convert string to float now."
      ]
    },
    {
      "cell_type": "code",
      "execution_count": null,
      "metadata": {
        "id": "l55NPOJIz2VO",
        "outputId": "20b657a4-0788-4a34-9ede-48e256bf0698"
      },
      "outputs": [
        {
          "data": {
            "text/plain": [
              "str"
            ]
          },
          "execution_count": 53,
          "metadata": {},
          "output_type": "execute_result"
        }
      ],
      "source": [
        "int1 = \"500\"\n",
        "type(int1)"
      ]
    },
    {
      "cell_type": "code",
      "execution_count": null,
      "metadata": {
        "id": "OKj4Sfgwz2VO",
        "outputId": "f6aafc58-c4b2-4331-9682-eca53b7cb847"
      },
      "outputs": [
        {
          "data": {
            "text/plain": [
              "int"
            ]
          },
          "execution_count": 55,
          "metadata": {},
          "output_type": "execute_result"
        }
      ],
      "source": [
        "int1 = int(int1)\n",
        "type(int1)"
      ]
    },
    {
      "cell_type": "code",
      "execution_count": null,
      "metadata": {
        "id": "qgHgY9Tsz2VO"
      },
      "outputs": [],
      "source": [
        "# Your turn now.\n",
        "\n"
      ]
    },
    {
      "cell_type": "markdown",
      "metadata": {
        "id": "QX9pUs0Lz2VO"
      },
      "source": [
        "Good job so far!\n",
        "You can also try converting strings to boolean and vice versa.\n",
        "You could also try conversions from integers to float and float to integer.\n",
        "\n",
        "Python is an intuitive language, so by default it stores data into correct formats. \n",
        "But very often we come across data being stored incorrectly especially while importing."
      ]
    }
  ],
  "metadata": {
    "kernelspec": {
      "display_name": "Python 3",
      "language": "python",
      "name": "python3"
    },
    "language_info": {
      "codemirror_mode": {
        "name": "ipython",
        "version": 3
      },
      "file_extension": ".py",
      "mimetype": "text/x-python",
      "name": "python",
      "nbconvert_exporter": "python",
      "pygments_lexer": "ipython3",
      "version": "3.7.3"
    },
    "colab": {
      "provenance": [],
      "include_colab_link": true
    }
  },
  "nbformat": 4,
  "nbformat_minor": 0
}